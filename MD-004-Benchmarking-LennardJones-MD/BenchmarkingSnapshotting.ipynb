{
 "cells": [
  {
   "cell_type": "markdown",
   "metadata": {},
   "source": [
    "# Benchmarking Snapshotting / Altering the system and Running a Simulation"
   ]
  },
  {
   "cell_type": "markdown",
   "metadata": {},
   "source": [
    "## First order of businees, you will need to have all the dependencies, the jupyter notebook is using.\n",
    "* You can install a viable Virtulenvironment into the Jupyter kernel"
   ]
  },
  {
   "cell_type": "markdown",
   "metadata": {},
   "source": [
    "## Boiler plate code:\n",
    "#### I have made a simple interface, as I have thought that I will need to run many datapoints."
   ]
  },
  {
   "cell_type": "code",
   "execution_count": 1,
   "metadata": {},
   "outputs": [],
   "source": [
    "import pandas\n",
    "from Utilities.SimulationInterface import SimulationInterface\n",
    "from Utilities.Benchmarking import Benchmarking"
   ]
  },
  {
   "cell_type": "markdown",
   "metadata": {},
   "source": [
    "#### Setup of a simple run with 10 000 particles\n",
    "* I am setting the sigma here intentionally, as this is the variable controlling the ideal distance of molecules\n",
    "* I am also setting the epsilon as this tells us the depth of the potential energy well"
   ]
  },
  {
   "cell_type": "code",
   "execution_count": 2,
   "metadata": {},
   "outputs": [
    {
     "name": "stdout",
     "output_type": "stream",
     "text": [
      "HOOMD-blue 2.9.6 DOUBLE HPMC_MIXED TBB SSE SSE2 SSE3 \n",
      "Compiled: 03/17/2021\n",
      "Copyright (c) 2009-2019 The Regents of the University of Michigan.\n",
      "-----\n",
      "You are using HOOMD-blue. Please cite the following:\n",
      "* J A Anderson, J Glaser, and S C Glotzer. \"HOOMD-blue: A Python package for\n",
      "  high-performance molecular dynamics and hard particle Monte Carlo\n",
      "  simulations\", Computational Materials Science 173 (2020) 109363\n",
      "-----\n",
      "HOOMD-blue is running on the CPU\n",
      "notice(2): Group \"all\" created containing 10648 particles\n",
      "notice(2): integrate.langevin/bd is using specified gamma values\n",
      "notice(2): -- Neighborlist exclusion statistics -- :\n",
      "notice(2): Particles with 0 exclusions             : 10648\n",
      "notice(2): Neighbors included by diameter          : no\n",
      "notice(2): Neighbors excluded when in the same body: no\n",
      "** starting run **\n",
      "Time 00:00:02 | Step 360 / 360 | TPS 159.237 | ETA 00:00:00\n",
      "Average TPS: 159.158\n",
      "---------\n",
      "-- Neighborlist stats:\n",
      "12 normal updates / 4 forced updates / 0 dangerous updates\n",
      "n_neigh_min: 0 / n_neigh_max: 33 / n_neigh_avg: 14.7985\n",
      "shortest rebuild period: 20\n",
      "-- Cell list stats:\n",
      "Dimension: 11, 11, 11\n",
      "n_min    : 5 / n_max: 11 / n_avg: 8\n",
      "** run complete **\n"
     ]
    }
   ],
   "source": [
    "simulationObject = SimulationInterface(numberOfParticles = 10000, LJsigma = 0.001, LJepsilon = 0.001)\n",
    "simulationObject.RunSetup()\n",
    "simulationObject.RunSimulation(runLength=360)"
   ]
  },
  {
   "cell_type": "markdown",
   "metadata": {},
   "source": [
    "#### Collectring the data from the benchmarks into an empty Dictionary"
   ]
  },
  {
   "cell_type": "code",
   "execution_count": 3,
   "metadata": {},
   "outputs": [],
   "source": [
    "benchmarkDictionary = {}"
   ]
  },
  {
   "cell_type": "markdown",
   "metadata": {},
   "source": [
    "#### Benchmarking - Taking a Snapshot and restoring the hoomdSystemsObject"
   ]
  },
  {
   "cell_type": "code",
   "execution_count": 4,
   "metadata": {},
   "outputs": [
    {
     "name": "stdout",
     "output_type": "stream",
     "text": [
      "0. Run\n",
      "1. Run\n",
      "2. Run\n",
      "3. Run\n",
      "4. Run\n",
      "5. Run\n",
      "6. Run\n",
      "7. Run\n",
      "8. Run\n",
      "9. Run\n",
      "On average it took: 0.00797417163848877 seconds!\n"
     ]
    }
   ],
   "source": [
    "avgTime = Benchmarking.BenchmarkSnapshot(simulationObject.TakeSnapshotNRestore, 10)\n",
    "print(\"On average it took: {} seconds!\".format(avgTime))\n",
    "benchmarkDictionary[\"SnapshotNRestore\"] = [avgTime]"
   ]
  },
  {
   "cell_type": "markdown",
   "metadata": {},
   "source": [
    "#### Benchmarking - Taking a Snapshot > Altering It and restoring the hoomdSystemsObject\n",
    "* Interesingly, if you Snapshot > Alter > Restore many times, without running it for at least a step, hoomd Throws an error at you, that you have particles without position, even if you set them manually."
   ]
  },
  {
   "cell_type": "code",
   "execution_count": 5,
   "metadata": {},
   "outputs": [
    {
     "name": "stdout",
     "output_type": "stream",
     "text": [
      "0. Run\n",
      "notice(2): -- Neighborlist exclusion statistics -- :\n",
      "notice(2): Particles with 0 exclusions             : 10649\n",
      "notice(2): Neighbors included by diameter          : no\n",
      "notice(2): Neighbors excluded when in the same body: no\n",
      "** starting run **\n",
      "Time 00:00:02 | Step 361 / 361 | TPS 18.0398 | ETA 00:00:00\n",
      "Average TPS: 17.6641\n",
      "---------\n",
      "-- Neighborlist stats:\n",
      "0 normal updates / 0 forced updates / 0 dangerous updates\n",
      "n_neigh_min: 0 / n_neigh_max: 34 / n_neigh_avg: 14.8508\n",
      "shortest rebuild period: 100\n",
      "-- Cell list stats:\n",
      "Dimension: 11, 11, 11\n",
      "n_min    : 5 / n_max: 11 / n_avg: 8.00075\n",
      "** run complete **\n",
      "1. Run\n",
      "notice(2): -- Neighborlist exclusion statistics -- :\n",
      "notice(2): Particles with 0 exclusions             : 10650\n",
      "notice(2): Neighbors included by diameter          : no\n",
      "notice(2): Neighbors excluded when in the same body: no\n",
      "** starting run **\n",
      "Time 00:00:03 | Step 362 / 362 | TPS 31.0965 | ETA 00:00:00\n",
      "Average TPS: 30.2957\n",
      "---------\n",
      "-- Neighborlist stats:\n",
      "0 normal updates / 0 forced updates / 0 dangerous updates\n",
      "n_neigh_min: 0 / n_neigh_max: 34 / n_neigh_avg: 14.8553\n",
      "shortest rebuild period: 100\n",
      "-- Cell list stats:\n",
      "Dimension: 11, 11, 11\n",
      "n_min    : 5 / n_max: 11 / n_avg: 8.0015\n",
      "** run complete **\n",
      "2. Run\n",
      "notice(2): -- Neighborlist exclusion statistics -- :\n",
      "notice(2): Particles with 0 exclusions             : 10651\n",
      "notice(2): Neighbors included by diameter          : no\n",
      "notice(2): Neighbors excluded when in the same body: no\n",
      "** starting run **\n",
      "Time 00:00:03 | Step 363 / 363 | TPS 34.5817 | ETA 00:00:00\n",
      "Average TPS: 33.3511\n",
      "---------\n",
      "-- Neighborlist stats:\n",
      "0 normal updates / 0 forced updates / 0 dangerous updates\n",
      "n_neigh_min: 0 / n_neigh_max: 34 / n_neigh_avg: 14.8579\n",
      "shortest rebuild period: 100\n",
      "-- Cell list stats:\n",
      "Dimension: 11, 11, 11\n",
      "n_min    : 5 / n_max: 11 / n_avg: 8.00225\n",
      "** run complete **\n",
      "3. Run\n",
      "notice(2): -- Neighborlist exclusion statistics -- :\n",
      "notice(2): Particles with 0 exclusions             : 10652\n",
      "notice(2): Neighbors included by diameter          : no\n",
      "notice(2): Neighbors excluded when in the same body: no\n",
      "** starting run **\n",
      "Time 00:00:03 | Step 364 / 364 | TPS 29.7566 | ETA 00:00:00\n",
      "Average TPS: 28.6796\n",
      "---------\n",
      "-- Neighborlist stats:\n",
      "0 normal updates / 0 forced updates / 0 dangerous updates\n",
      "n_neigh_min: 0 / n_neigh_max: 34 / n_neigh_avg: 14.8607\n",
      "shortest rebuild period: 100\n",
      "-- Cell list stats:\n",
      "Dimension: 11, 11, 11\n",
      "n_min    : 5 / n_max: 11 / n_avg: 8.00301\n",
      "** run complete **\n",
      "4. Run\n",
      "notice(2): -- Neighborlist exclusion statistics -- :\n",
      "notice(2): Particles with 0 exclusions             : 10653\n",
      "notice(2): Neighbors included by diameter          : no\n",
      "notice(2): Neighbors excluded when in the same body: no\n",
      "** starting run **\n",
      "Time 00:00:03 | Step 365 / 365 | TPS 33.7872 | ETA 00:00:00\n",
      "Average TPS: 31.9806\n",
      "---------\n",
      "-- Neighborlist stats:\n",
      "0 normal updates / 0 forced updates / 0 dangerous updates\n",
      "n_neigh_min: 0 / n_neigh_max: 34 / n_neigh_avg: 14.8638\n",
      "shortest rebuild period: 100\n",
      "-- Cell list stats:\n",
      "Dimension: 11, 11, 11\n",
      "n_min    : 5 / n_max: 11 / n_avg: 8.00376\n",
      "** run complete **\n",
      "5. Run\n",
      "notice(2): -- Neighborlist exclusion statistics -- :\n",
      "notice(2): Particles with 0 exclusions             : 10654\n",
      "notice(2): Neighbors included by diameter          : no\n",
      "notice(2): Neighbors excluded when in the same body: no\n",
      "** starting run **\n",
      "Time 00:00:03 | Step 366 / 366 | TPS 28.516 | ETA 00:00:00\n",
      "Average TPS: 27.2606\n",
      "---------\n",
      "-- Neighborlist stats:\n",
      "0 normal updates / 0 forced updates / 0 dangerous updates\n",
      "n_neigh_min: 0 / n_neigh_max: 34 / n_neigh_avg: 14.8689\n",
      "shortest rebuild period: 100\n",
      "-- Cell list stats:\n",
      "Dimension: 11, 11, 11\n",
      "n_min    : 5 / n_max: 11 / n_avg: 8.00451\n",
      "** run complete **\n",
      "6. Run\n",
      "notice(2): -- Neighborlist exclusion statistics -- :\n",
      "notice(2): Particles with 0 exclusions             : 10655\n",
      "notice(2): Neighbors included by diameter          : no\n",
      "notice(2): Neighbors excluded when in the same body: no\n",
      "** starting run **\n",
      "Time 00:00:03 | Step 367 / 367 | TPS 36.0933 | ETA 00:00:00\n",
      "Average TPS: 34.3395\n",
      "---------\n",
      "-- Neighborlist stats:\n",
      "0 normal updates / 0 forced updates / 0 dangerous updates\n",
      "n_neigh_min: 0 / n_neigh_max: 34 / n_neigh_avg: 14.8694\n",
      "shortest rebuild period: 100\n",
      "-- Cell list stats:\n",
      "Dimension: 11, 11, 11\n",
      "n_min    : 5 / n_max: 11 / n_avg: 8.00526\n",
      "** run complete **\n",
      "7. Run\n",
      "notice(2): -- Neighborlist exclusion statistics -- :\n",
      "notice(2): Particles with 0 exclusions             : 10656\n",
      "notice(2): Neighbors included by diameter          : no\n",
      "notice(2): Neighbors excluded when in the same body: no\n",
      "** starting run **\n",
      "Time 00:00:03 | Step 368 / 368 | TPS 29.2954 | ETA 00:00:00\n",
      "Average TPS: 28.3054\n",
      "---------\n",
      "-- Neighborlist stats:\n",
      "0 normal updates / 0 forced updates / 0 dangerous updates\n",
      "n_neigh_min: 0 / n_neigh_max: 34 / n_neigh_avg: 14.8724\n",
      "shortest rebuild period: 100\n",
      "-- Cell list stats:\n",
      "Dimension: 11, 11, 11\n",
      "n_min    : 5 / n_max: 11 / n_avg: 8.00601\n",
      "** run complete **\n",
      "8. Run\n",
      "notice(2): -- Neighborlist exclusion statistics -- :\n",
      "notice(2): Particles with 0 exclusions             : 10657\n",
      "notice(2): Neighbors included by diameter          : no\n",
      "notice(2): Neighbors excluded when in the same body: no\n",
      "** starting run **\n",
      "Time 00:00:03 | Step 369 / 369 | TPS 31.6726 | ETA 00:00:00\n",
      "Average TPS: 30.5316\n",
      "---------\n",
      "-- Neighborlist stats:\n",
      "0 normal updates / 0 forced updates / 0 dangerous updates\n",
      "n_neigh_min: 0 / n_neigh_max: 34 / n_neigh_avg: 14.876\n",
      "shortest rebuild period: 100\n",
      "-- Cell list stats:\n",
      "Dimension: 11, 11, 11\n",
      "n_min    : 5 / n_max: 11 / n_avg: 8.00676\n",
      "** run complete **\n",
      "9. Run\n",
      "notice(2): -- Neighborlist exclusion statistics -- :\n",
      "notice(2): Particles with 0 exclusions             : 10658\n",
      "notice(2): Neighbors included by diameter          : no\n",
      "notice(2): Neighbors excluded when in the same body: no\n",
      "** starting run **\n",
      "Time 00:00:03 | Step 370 / 370 | TPS 27.2361 | ETA 00:00:00\n",
      "Average TPS: 26.4201\n",
      "---------\n",
      "-- Neighborlist stats:\n",
      "0 normal updates / 0 forced updates / 0 dangerous updates\n",
      "n_neigh_min: 0 / n_neigh_max: 34 / n_neigh_avg: 14.8801\n",
      "shortest rebuild period: 100\n",
      "-- Cell list stats:\n",
      "Dimension: 11, 11, 11\n",
      "n_min    : 5 / n_max: 11 / n_avg: 8.00751\n",
      "** run complete **\n",
      "On average it took: 0.060351443290710446 seconds!\n"
     ]
    }
   ],
   "source": [
    "def benchmarkRunSnapshotNAlterNRun():\n",
    "\tsimulationObject.TakeSnapshotAlterNRestore()\n",
    "\tsimulationObject.RunSimulation(1)\n",
    "\n",
    "avgTime = Benchmarking.BenchmarkSnapshot(benchmarkRunSnapshotNAlterNRun, 10)\n",
    "print(\"On average it took: {} seconds!\".format(avgTime))\n",
    "benchmarkDictionary[\"AlterNRestore\"] = [avgTime]"
   ]
  },
  {
   "cell_type": "markdown",
   "metadata": {},
   "source": [
    "#### Benchmarking a 10 mins run (360 seconds, if a timestep is 1 second)"
   ]
  },
  {
   "cell_type": "code",
   "execution_count": 6,
   "metadata": {},
   "outputs": [
    {
     "name": "stdout",
     "output_type": "stream",
     "text": [
      "** starting run **\n",
      "Time 00:00:05 | Step 730 / 730 | TPS 194.622 | ETA 00:00:00\n",
      "Average TPS: 194.504\n",
      "---------\n",
      "-- Neighborlist stats:\n",
      "17 normal updates / 5 forced updates / 0 dangerous updates\n",
      "n_neigh_min: 0 / n_neigh_max: 37 / n_neigh_avg: 15.0431\n",
      "shortest rebuild period: 16\n",
      "-- Cell list stats:\n",
      "Dimension: 11, 11, 11\n",
      "n_min    : 2 / n_max: 17 / n_avg: 8.00751\n",
      "** run complete **\n",
      "** starting run **\n",
      "Time 00:00:07 | Step 1090 / 1090 | TPS 203.47 | ETA 00:00:00\n",
      "Average TPS: 203.341\n",
      "---------\n",
      "-- Neighborlist stats:\n",
      "15 normal updates / 4 forced updates / 0 dangerous updates\n",
      "n_neigh_min: 0 / n_neigh_max: 46 / n_neigh_avg: 15.1421\n",
      "shortest rebuild period: 19\n",
      "-- Cell list stats:\n",
      "Dimension: 11, 11, 11\n",
      "n_min    : 1 / n_max: 16 / n_avg: 8.00751\n",
      "** run complete **\n",
      "** starting run **\n",
      "Time 00:00:09 | Step 1450 / 1450 | TPS 176.665 | ETA 00:00:00\n",
      "Average TPS: 176.566\n",
      "---------\n",
      "-- Neighborlist stats:\n",
      "16 normal updates / 5 forced updates / 0 dangerous updates\n",
      "n_neigh_min: 0 / n_neigh_max: 43 / n_neigh_avg: 15.2272\n",
      "shortest rebuild period: 17\n",
      "-- Cell list stats:\n",
      "Dimension: 11, 11, 11\n",
      "n_min    : 0 / n_max: 18 / n_avg: 8.00751\n",
      "** run complete **\n",
      "** starting run **\n",
      "Time 00:00:11 | Step 1810 / 1810 | TPS 176.112 | ETA 00:00:00\n",
      "Average TPS: 176.037\n",
      "---------\n",
      "-- Neighborlist stats:\n",
      "16 normal updates / 5 forced updates / 0 dangerous updates\n",
      "n_neigh_min: 0 / n_neigh_max: 45 / n_neigh_avg: 15.2895\n",
      "shortest rebuild period: 18\n",
      "-- Cell list stats:\n",
      "Dimension: 11, 11, 11\n",
      "n_min    : 1 / n_max: 18 / n_avg: 8.00751\n",
      "** run complete **\n",
      "** starting run **\n",
      "Time 00:00:13 | Step 2170 / 2170 | TPS 205.004 | ETA 00:00:00\n",
      "Average TPS: 204.871\n",
      "---------\n",
      "-- Neighborlist stats:\n",
      "16 normal updates / 4 forced updates / 0 dangerous updates\n",
      "n_neigh_min: 0 / n_neigh_max: 44 / n_neigh_avg: 15.3115\n",
      "shortest rebuild period: 18\n",
      "-- Cell list stats:\n",
      "Dimension: 11, 11, 11\n",
      "n_min    : 2 / n_max: 18 / n_avg: 8.00751\n",
      "** run complete **\n",
      "** starting run **\n",
      "Time 00:00:14 | Step 2530 / 2530 | TPS 202.337 | ETA 00:00:00\n",
      "Average TPS: 202.184\n",
      "---------\n",
      "-- Neighborlist stats:\n",
      "16 normal updates / 5 forced updates / 0 dangerous updates\n",
      "n_neigh_min: 0 / n_neigh_max: 44 / n_neigh_avg: 15.332\n",
      "shortest rebuild period: 18\n",
      "-- Cell list stats:\n",
      "Dimension: 11, 11, 11\n",
      "n_min    : 1 / n_max: 22 / n_avg: 8.00751\n",
      "** run complete **\n",
      "** starting run **\n",
      "Time 00:00:16 | Step 2890 / 2890 | TPS 180.939 | ETA 00:00:00\n",
      "Average TPS: 180.836\n",
      "---------\n",
      "-- Neighborlist stats:\n",
      "17 normal updates / 4 forced updates / 0 dangerous updates\n",
      "n_neigh_min: 0 / n_neigh_max: 39 / n_neigh_avg: 15.3741\n",
      "shortest rebuild period: 17\n",
      "-- Cell list stats:\n",
      "Dimension: 11, 11, 11\n",
      "n_min    : 0 / n_max: 18 / n_avg: 8.00751\n",
      "** run complete **\n",
      "** starting run **\n",
      "Time 00:00:18 | Step 3250 / 3250 | TPS 180.535 | ETA 00:00:00\n",
      "Average TPS: 180.466\n",
      "---------\n",
      "-- Neighborlist stats:\n",
      "15 normal updates / 5 forced updates / 0 dangerous updates\n",
      "n_neigh_min: 0 / n_neigh_max: 41 / n_neigh_avg: 15.3817\n",
      "shortest rebuild period: 17\n",
      "-- Cell list stats:\n",
      "Dimension: 11, 11, 11\n",
      "n_min    : 0 / n_max: 18 / n_avg: 8.00751\n",
      "** run complete **\n",
      "** starting run **\n",
      "Time 00:00:20 | Step 3610 / 3610 | TPS 201.976 | ETA 00:00:00\n",
      "Average TPS: 201.823\n",
      "---------\n",
      "-- Neighborlist stats:\n",
      "16 normal updates / 5 forced updates / 0 dangerous updates\n",
      "n_neigh_min: 0 / n_neigh_max: 41 / n_neigh_avg: 15.4198\n",
      "shortest rebuild period: 17\n",
      "-- Cell list stats:\n",
      "Dimension: 11, 11, 11\n",
      "n_min    : 1 / n_max: 17 / n_avg: 8.00751\n",
      "** run complete **\n",
      "** starting run **\n",
      "Time 00:00:22 | Step 3970 / 3970 | TPS 209.317 | ETA 00:00:00\n",
      "Average TPS: 209.17\n",
      "---------\n",
      "-- Neighborlist stats:\n",
      "16 normal updates / 4 forced updates / 0 dangerous updates\n",
      "n_neigh_min: 0 / n_neigh_max: 42 / n_neigh_avg: 15.4228\n",
      "shortest rebuild period: 18\n",
      "-- Cell list stats:\n",
      "Dimension: 11, 11, 11\n",
      "n_min    : 1 / n_max: 17 / n_avg: 8.00751\n",
      "** run complete **\n",
      "On average it took: 1.8828325986862182 seconds!\n"
     ]
    }
   ],
   "source": [
    "avgTime = Benchmarking.BenchmarkSimulation(simulationObject.RunSimulation, 360, 10)\n",
    "print(\"On average it took: {} seconds!\".format(avgTime))\n",
    "benchmarkDictionary[\"Run10Mins\"] = [avgTime]"
   ]
  },
  {
   "cell_type": "markdown",
   "metadata": {},
   "source": [
    "### Showing the benchmarks next to each other."
   ]
  },
  {
   "cell_type": "code",
   "execution_count": 7,
   "metadata": {},
   "outputs": [
    {
     "name": "stdout",
     "output_type": "stream",
     "text": [
      "   SnapshotNRestore  AlterNRestore  Run10Mins\n",
      "0          0.007974       0.060351   1.882833\n"
     ]
    }
   ],
   "source": [
    "BenchmarkRun = pandas.DataFrame.from_dict(benchmarkDictionary, orient=\"columns\")\n",
    "print(BenchmarkRun)"
   ]
  }
 ],
 "metadata": {
  "interpreter": {
   "hash": "c1070025684f38ef424833d62943fdce2e85c1bbcb397a79406fddf7242be22a"
  },
  "kernelspec": {
   "display_name": "hoomd_introduction_stable",
   "language": "python",
   "name": "hoomd_introduction_stable"
  },
  "language_info": {
   "codemirror_mode": {
    "name": "ipython",
    "version": 3
   },
   "file_extension": ".py",
   "mimetype": "text/x-python",
   "name": "python",
   "nbconvert_exporter": "python",
   "pygments_lexer": "ipython3",
   "version": "3.9.5"
  }
 },
 "nbformat": 4,
 "nbformat_minor": 2
}
