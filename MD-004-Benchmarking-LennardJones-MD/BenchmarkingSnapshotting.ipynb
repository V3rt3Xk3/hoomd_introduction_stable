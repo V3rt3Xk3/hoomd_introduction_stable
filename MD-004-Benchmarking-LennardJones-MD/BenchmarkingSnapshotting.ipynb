{
 "cells": [
  {
   "cell_type": "markdown",
   "metadata": {},
   "source": [
    "# Benchmarking Snapshotting / Altering the system and Running a Simulation"
   ]
  },
  {
   "cell_type": "markdown",
   "metadata": {},
   "source": [
    "## First order of businees, you will need to have all the dependencies, the jupyter notebook is using.\n",
    "* You can install a viable Virtulenvironment into the Jupyter kernel"
   ]
  },
  {
   "cell_type": "markdown",
   "metadata": {},
   "source": [
    "## Boiler plate code:\n",
    "#### I have made a simple interface, as I have thought that I will need to run many datapoints."
   ]
  },
  {
   "cell_type": "code",
   "execution_count": 1,
   "metadata": {},
   "outputs": [],
   "source": [
    "import pandas\n",
    "from Utilities.SimulationInterface import SimulationInterface\n",
    "from Utilities.Benchmarking import Benchmarking"
   ]
  },
  {
   "cell_type": "markdown",
   "metadata": {},
   "source": [
    "#### Setup of a simple run with 10 000 particles\n",
    "* I am setting the sigma here intentionally, as this is the variable controlling the ideal distance of molecules\n",
    "* I am also setting the epsilon as this tells us the depth of the potential energy well"
   ]
  },
  {
   "cell_type": "code",
   "execution_count": 2,
   "metadata": {},
   "outputs": [
    {
     "name": "stdout",
     "output_type": "stream",
     "text": [
      "HOOMD-blue 2.9.6 DOUBLE HPMC_MIXED TBB SSE SSE2 SSE3 \n",
      "Compiled: 03/17/2021\n",
      "Copyright (c) 2009-2019 The Regents of the University of Michigan.\n",
      "-----\n",
      "You are using HOOMD-blue. Please cite the following:\n",
      "* J A Anderson, J Glaser, and S C Glotzer. \"HOOMD-blue: A Python package for\n",
      "  high-performance molecular dynamics and hard particle Monte Carlo\n",
      "  simulations\", Computational Materials Science 173 (2020) 109363\n",
      "-----\n",
      "HOOMD-blue is running on the CPU\n",
      "notice(2): Group \"all\" created containing 10648 particles\n",
      "notice(2): integrate.langevin/bd is using specified gamma values\n",
      "notice(2): -- Neighborlist exclusion statistics -- :\n",
      "notice(2): Particles with 0 exclusions             : 10648\n",
      "notice(2): Neighbors included by diameter          : no\n",
      "notice(2): Neighbors excluded when in the same body: no\n",
      "** starting run **\n",
      "Time 00:00:03 | Step 600 / 600 | TPS 161.598 | ETA 00:00:00\n",
      "Average TPS: 161.522\n",
      "---------\n",
      "-- Neighborlist stats:\n",
      "24 normal updates / 6 forced updates / 0 dangerous updates\n",
      "n_neigh_min: 0 / n_neigh_max: 36 / n_neigh_avg: 15.029\n",
      "shortest rebuild period: 18\n",
      "-- Cell list stats:\n",
      "Dimension: 11, 11, 11\n",
      "n_min    : 3 / n_max: 15 / n_avg: 8\n",
      "** run complete **\n"
     ]
    }
   ],
   "source": [
    "simulationObject = SimulationInterface(numberOfParticles = 10000, LJsigma = 0.001, LJepsilon = 0.001)\n",
    "simulationObject.RunSetup()\n",
    "simulationObject.RunSimulation(runLength=600)"
   ]
  },
  {
   "cell_type": "markdown",
   "metadata": {},
   "source": [
    "#### Collectring the data from the benchmarks into an empty Dictionary"
   ]
  },
  {
   "cell_type": "code",
   "execution_count": 3,
   "metadata": {},
   "outputs": [],
   "source": [
    "benchmarkDictionary = {}"
   ]
  },
  {
   "cell_type": "markdown",
   "metadata": {},
   "source": [
    "#### Benchmarking - Taking a Snapshot and restoring the hoomdSystemsObject"
   ]
  },
  {
   "cell_type": "code",
   "execution_count": 4,
   "metadata": {},
   "outputs": [
    {
     "name": "stdout",
     "output_type": "stream",
     "text": [
      "0. Run\n",
      "1. Run\n",
      "2. Run\n",
      "3. Run\n",
      "4. Run\n",
      "5. Run\n",
      "6. Run\n",
      "7. Run\n",
      "8. Run\n",
      "9. Run\n",
      "On average it took: 0.008586716651916505 seconds!\n"
     ]
    }
   ],
   "source": [
    "avgTime = Benchmarking.BenchmarkSnapshot(simulationObject.TakeSnapshotNRestore, 10)\n",
    "print(\"On average it took: {} seconds!\".format(avgTime))\n",
    "benchmarkDictionary[\"SnapshotNRestore\"] = [avgTime]"
   ]
  },
  {
   "cell_type": "markdown",
   "metadata": {},
   "source": [
    "#### Benchmarking - Taking a Snapshot > Altering It and restoring the hoomdSystemsObject\n",
    "* Interesingly, if you Snapshot > Alter > Restore many times, without running it for at least a step, hoomd Throws an error at you, that you have particles without position, even if you set them manually."
   ]
  },
  {
   "cell_type": "code",
   "execution_count": 5,
   "metadata": {},
   "outputs": [
    {
     "name": "stdout",
     "output_type": "stream",
     "text": [
      "0. Run\n",
      "notice(2): -- Neighborlist exclusion statistics -- :\n",
      "notice(2): Particles with 0 exclusions             : 10649\n",
      "notice(2): Neighbors included by diameter          : no\n",
      "notice(2): Neighbors excluded when in the same body: no\n",
      "** starting run **\n",
      "Time 00:00:04 | Step 601 / 601 | TPS 15.3516 | ETA 00:00:00\n",
      "Average TPS: 15.1497\n",
      "---------\n",
      "-- Neighborlist stats:\n",
      "0 normal updates / 1 forced updates / 0 dangerous updates\n",
      "n_neigh_min: 0 / n_neigh_max: 36 / n_neigh_avg: 15.0306\n",
      "shortest rebuild period: 100\n",
      "-- Cell list stats:\n",
      "Dimension: 11, 11, 11\n",
      "n_min    : 3 / n_max: 15 / n_avg: 8.00075\n",
      "** run complete **\n",
      "1. Run\n",
      "notice(2): -- Neighborlist exclusion statistics -- :\n",
      "notice(2): Particles with 0 exclusions             : 10650\n",
      "notice(2): Neighbors included by diameter          : no\n",
      "notice(2): Neighbors excluded when in the same body: no\n",
      "** starting run **\n",
      "Time 00:00:04 | Step 602 / 602 | TPS 25.5578 | ETA 00:00:00\n",
      "Average TPS: 24.3226\n",
      "---------\n",
      "-- Neighborlist stats:\n",
      "0 normal updates / 0 forced updates / 0 dangerous updates\n",
      "n_neigh_min: 0 / n_neigh_max: 35 / n_neigh_avg: 15.0324\n",
      "shortest rebuild period: 100\n",
      "-- Cell list stats:\n",
      "Dimension: 11, 11, 11\n",
      "n_min    : 3 / n_max: 15 / n_avg: 8.0015\n",
      "** run complete **\n",
      "2. Run\n",
      "notice(2): -- Neighborlist exclusion statistics -- :\n",
      "notice(2): Particles with 0 exclusions             : 10651\n",
      "notice(2): Neighbors included by diameter          : no\n",
      "notice(2): Neighbors excluded when in the same body: no\n",
      "** starting run **\n",
      "Time 00:00:04 | Step 603 / 603 | TPS 27.1245 | ETA 00:00:00\n",
      "Average TPS: 26.0756\n",
      "---------\n",
      "-- Neighborlist stats:\n",
      "0 normal updates / 0 forced updates / 0 dangerous updates\n",
      "n_neigh_min: 0 / n_neigh_max: 35 / n_neigh_avg: 15.0318\n",
      "shortest rebuild period: 100\n",
      "-- Cell list stats:\n",
      "Dimension: 11, 11, 11\n",
      "n_min    : 3 / n_max: 15 / n_avg: 8.00225\n",
      "** run complete **\n",
      "3. Run\n",
      "notice(2): -- Neighborlist exclusion statistics -- :\n",
      "notice(2): Particles with 0 exclusions             : 10652\n",
      "notice(2): Neighbors included by diameter          : no\n",
      "notice(2): Neighbors excluded when in the same body: no\n",
      "** starting run **\n",
      "Time 00:00:04 | Step 604 / 604 | TPS 26.9237 | ETA 00:00:00\n",
      "Average TPS: 26.0329\n",
      "---------\n",
      "-- Neighborlist stats:\n",
      "0 normal updates / 0 forced updates / 0 dangerous updates\n",
      "n_neigh_min: 0 / n_neigh_max: 35 / n_neigh_avg: 15.0355\n",
      "shortest rebuild period: 100\n",
      "-- Cell list stats:\n",
      "Dimension: 11, 11, 11\n",
      "n_min    : 3 / n_max: 15 / n_avg: 8.00301\n",
      "** run complete **\n",
      "4. Run\n",
      "notice(2): -- Neighborlist exclusion statistics -- :\n",
      "notice(2): Particles with 0 exclusions             : 10653\n",
      "notice(2): Neighbors included by diameter          : no\n",
      "notice(2): Neighbors excluded when in the same body: no\n",
      "** starting run **\n",
      "Time 00:00:04 | Step 605 / 605 | TPS 25.4084 | ETA 00:00:00\n",
      "Average TPS: 24.7317\n",
      "---------\n",
      "-- Neighborlist stats:\n",
      "0 normal updates / 0 forced updates / 0 dangerous updates\n",
      "n_neigh_min: 0 / n_neigh_max: 35 / n_neigh_avg: 15.0353\n",
      "shortest rebuild period: 100\n",
      "-- Cell list stats:\n",
      "Dimension: 11, 11, 11\n",
      "n_min    : 3 / n_max: 15 / n_avg: 8.00376\n",
      "** run complete **\n",
      "5. Run\n",
      "notice(2): -- Neighborlist exclusion statistics -- :\n",
      "notice(2): Particles with 0 exclusions             : 10654\n",
      "notice(2): Neighbors included by diameter          : no\n",
      "notice(2): Neighbors excluded when in the same body: no\n",
      "** starting run **\n",
      "Time 00:00:04 | Step 606 / 606 | TPS 29.8196 | ETA 00:00:00\n",
      "Average TPS: 28.796\n",
      "---------\n",
      "-- Neighborlist stats:\n",
      "0 normal updates / 0 forced updates / 0 dangerous updates\n",
      "n_neigh_min: 0 / n_neigh_max: 35 / n_neigh_avg: 15.0392\n",
      "shortest rebuild period: 100\n",
      "-- Cell list stats:\n",
      "Dimension: 11, 11, 11\n",
      "n_min    : 3 / n_max: 15 / n_avg: 8.00451\n",
      "** run complete **\n",
      "6. Run\n",
      "notice(2): -- Neighborlist exclusion statistics -- :\n",
      "notice(2): Particles with 0 exclusions             : 10655\n",
      "notice(2): Neighbors included by diameter          : no\n",
      "notice(2): Neighbors excluded when in the same body: no\n",
      "** starting run **\n",
      "Time 00:00:04 | Step 607 / 607 | TPS 28.3857 | ETA 00:00:00\n",
      "Average TPS: 27.2673\n",
      "---------\n",
      "-- Neighborlist stats:\n",
      "0 normal updates / 0 forced updates / 0 dangerous updates\n",
      "n_neigh_min: 0 / n_neigh_max: 35 / n_neigh_avg: 15.0407\n",
      "shortest rebuild period: 100\n",
      "-- Cell list stats:\n",
      "Dimension: 11, 11, 11\n",
      "n_min    : 3 / n_max: 15 / n_avg: 8.00526\n",
      "** run complete **\n",
      "7. Run\n",
      "notice(2): -- Neighborlist exclusion statistics -- :\n",
      "notice(2): Particles with 0 exclusions             : 10656\n",
      "notice(2): Neighbors included by diameter          : no\n",
      "notice(2): Neighbors excluded when in the same body: no\n",
      "** starting run **\n",
      "Time 00:00:04 | Step 608 / 608 | TPS 27.3785 | ETA 00:00:00\n",
      "Average TPS: 26.5132\n",
      "---------\n",
      "-- Neighborlist stats:\n",
      "0 normal updates / 0 forced updates / 0 dangerous updates\n",
      "n_neigh_min: 0 / n_neigh_max: 35 / n_neigh_avg: 15.0442\n",
      "shortest rebuild period: 100\n",
      "-- Cell list stats:\n",
      "Dimension: 11, 11, 11\n",
      "n_min    : 3 / n_max: 15 / n_avg: 8.00601\n",
      "** run complete **\n",
      "8. Run\n",
      "notice(2): -- Neighborlist exclusion statistics -- :\n",
      "notice(2): Particles with 0 exclusions             : 10657\n",
      "notice(2): Neighbors included by diameter          : no\n",
      "notice(2): Neighbors excluded when in the same body: no\n",
      "** starting run **\n",
      "Time 00:00:04 | Step 609 / 609 | TPS 32.6669 | ETA 00:00:00\n",
      "Average TPS: 31.3794\n",
      "---------\n",
      "-- Neighborlist stats:\n",
      "0 normal updates / 0 forced updates / 0 dangerous updates\n",
      "n_neigh_min: 0 / n_neigh_max: 35 / n_neigh_avg: 15.0453\n",
      "shortest rebuild period: 100\n",
      "-- Cell list stats:\n",
      "Dimension: 11, 11, 11\n",
      "n_min    : 3 / n_max: 15 / n_avg: 8.00676\n",
      "** run complete **\n",
      "9. Run\n",
      "notice(2): -- Neighborlist exclusion statistics -- :\n",
      "notice(2): Particles with 0 exclusions             : 10658\n",
      "notice(2): Neighbors included by diameter          : no\n",
      "notice(2): Neighbors excluded when in the same body: no\n",
      "** starting run **\n",
      "Time 00:00:04 | Step 610 / 610 | TPS 26.9455 | ETA 00:00:00\n",
      "Average TPS: 25.8987\n",
      "---------\n",
      "-- Neighborlist stats:\n",
      "0 normal updates / 0 forced updates / 0 dangerous updates\n",
      "n_neigh_min: 0 / n_neigh_max: 35 / n_neigh_avg: 15.0463\n",
      "shortest rebuild period: 100\n",
      "-- Cell list stats:\n",
      "Dimension: 11, 11, 11\n",
      "n_min    : 3 / n_max: 15 / n_avg: 8.00751\n",
      "** run complete **\n",
      "On average it took: 0.06311550140380859 seconds!\n"
     ]
    }
   ],
   "source": [
    "def benchmarkRunSnapshotNAlterNRun():\n",
    "\tsimulationObject.TakeSnapshotAlterNRestore()\n",
    "\tsimulationObject.RunSimulation(1)\n",
    "\n",
    "avgTime = Benchmarking.BenchmarkSnapshot(benchmarkRunSnapshotNAlterNRun, 10)\n",
    "print(\"On average it took: {} seconds!\".format(avgTime))\n",
    "benchmarkDictionary[\"AlterNRestore\"] = [avgTime]"
   ]
  },
  {
   "cell_type": "markdown",
   "metadata": {},
   "source": [
    "#### Benchmarking a 10 mins run (600 seconds, if a timestep is 1 second)"
   ]
  },
  {
   "cell_type": "code",
   "execution_count": 6,
   "metadata": {},
   "outputs": [
    {
     "name": "stdout",
     "output_type": "stream",
     "text": [
      "** starting run **\n",
      "Time 00:00:07 | Step 1210 / 1210 | TPS 196.656 | ETA 00:00:00\n",
      "Average TPS: 196.513\n",
      "---------\n",
      "-- Neighborlist stats:\n",
      "26 normal updates / 7 forced updates / 0 dangerous updates\n",
      "n_neigh_min: 0 / n_neigh_max: 42 / n_neigh_avg: 15.16\n",
      "shortest rebuild period: 17\n",
      "-- Cell list stats:\n",
      "Dimension: 11, 11, 11\n",
      "n_min    : 1 / n_max: 18 / n_avg: 8.00751\n",
      "** run complete **\n",
      "** starting run **\n",
      "Time 00:00:10 | Step 1810 / 1810 | TPS 205.237 | ETA 00:00:00\n",
      "Average TPS: 205.002\n",
      "---------\n",
      "-- Neighborlist stats:\n",
      "27 normal updates / 7 forced updates / 0 dangerous updates\n",
      "n_neigh_min: 0 / n_neigh_max: 45 / n_neigh_avg: 15.297\n",
      "shortest rebuild period: 17\n",
      "-- Cell list stats:\n",
      "Dimension: 11, 11, 11\n",
      "n_min    : 1 / n_max: 18 / n_avg: 8.00751\n",
      "** run complete **\n",
      "** starting run **\n",
      "Time 00:00:13 | Step 2410 / 2410 | TPS 204.798 | ETA 00:00:00\n",
      "Average TPS: 204.725\n",
      "---------\n",
      "-- Neighborlist stats:\n",
      "26 normal updates / 7 forced updates / 0 dangerous updates\n",
      "n_neigh_min: 0 / n_neigh_max: 41 / n_neigh_avg: 15.3328\n",
      "shortest rebuild period: 18\n",
      "-- Cell list stats:\n",
      "Dimension: 11, 11, 11\n",
      "n_min    : 1 / n_max: 20 / n_avg: 8.00751\n",
      "** run complete **\n",
      "** starting run **\n",
      "Time 00:00:17 | Step 3010 / 3010 | TPS 190.937 | ETA 00:00:00\n",
      "Average TPS: 190.858\n",
      "---------\n",
      "-- Neighborlist stats:\n",
      "26 normal updates / 7 forced updates / 0 dangerous updates\n",
      "n_neigh_min: 0 / n_neigh_max: 40 / n_neigh_avg: 15.3777\n",
      "shortest rebuild period: 17\n",
      "-- Cell list stats:\n",
      "Dimension: 11, 11, 11\n",
      "n_min    : 1 / n_max: 17 / n_avg: 8.00751\n",
      "** run complete **\n",
      "** starting run **\n",
      "Time 00:00:20 | Step 3610 / 3610 | TPS 197.576 | ETA 00:00:00\n",
      "Average TPS: 197.515\n",
      "---------\n",
      "-- Neighborlist stats:\n",
      "27 normal updates / 7 forced updates / 0 dangerous updates\n",
      "n_neigh_min: 0 / n_neigh_max: 42 / n_neigh_avg: 15.4202\n",
      "shortest rebuild period: 17\n",
      "-- Cell list stats:\n",
      "Dimension: 11, 11, 11\n",
      "n_min    : 1 / n_max: 18 / n_avg: 8.00751\n",
      "** run complete **\n",
      "** starting run **\n",
      "Time 00:00:23 | Step 4210 / 4210 | TPS 184.605 | ETA 00:00:00\n",
      "Average TPS: 184.552\n",
      "---------\n",
      "-- Neighborlist stats:\n",
      "27 normal updates / 7 forced updates / 0 dangerous updates\n",
      "n_neigh_min: 0 / n_neigh_max: 40 / n_neigh_avg: 15.4555\n",
      "shortest rebuild period: 18\n",
      "-- Cell list stats:\n",
      "Dimension: 11, 11, 11\n",
      "n_min    : 1 / n_max: 17 / n_avg: 8.00751\n",
      "** run complete **\n",
      "** starting run **\n",
      "Time 00:00:26 | Step 4810 / 4810 | TPS 186.135 | ETA 00:00:00\n",
      "Average TPS: 186.087\n",
      "---------\n",
      "-- Neighborlist stats:\n",
      "26 normal updates / 7 forced updates / 0 dangerous updates\n",
      "n_neigh_min: 0 / n_neigh_max: 43 / n_neigh_avg: 15.3911\n",
      "shortest rebuild period: 18\n",
      "-- Cell list stats:\n",
      "Dimension: 11, 11, 11\n",
      "n_min    : 1 / n_max: 18 / n_avg: 8.00751\n",
      "** run complete **\n",
      "** starting run **\n",
      "Time 00:00:29 | Step 5410 / 5410 | TPS 189.154 | ETA 00:00:00\n",
      "Average TPS: 189.105\n",
      "---------\n",
      "-- Neighborlist stats:\n",
      "25 normal updates / 7 forced updates / 0 dangerous updates\n",
      "n_neigh_min: 0 / n_neigh_max: 45 / n_neigh_avg: 15.4842\n",
      "shortest rebuild period: 18\n",
      "-- Cell list stats:\n",
      "Dimension: 11, 11, 11\n",
      "n_min    : 0 / n_max: 19 / n_avg: 8.00751\n",
      "** run complete **\n",
      "** starting run **\n",
      "Time 00:00:32 | Step 6010 / 6010 | TPS 188.869 | ETA 00:00:00\n",
      "Average TPS: 188.791\n",
      "---------\n",
      "-- Neighborlist stats:\n",
      "28 normal updates / 7 forced updates / 0 dangerous updates\n",
      "n_neigh_min: 0 / n_neigh_max: 40 / n_neigh_avg: 15.4601\n",
      "shortest rebuild period: 17\n",
      "-- Cell list stats:\n",
      "Dimension: 11, 11, 11\n",
      "n_min    : 1 / n_max: 19 / n_avg: 8.00751\n",
      "** run complete **\n",
      "** starting run **\n",
      "Time 00:00:36 | Step 6610 / 6610 | TPS 196.416 | ETA 00:00:00\n",
      "Average TPS: 196.301\n",
      "---------\n",
      "-- Neighborlist stats:\n",
      "27 normal updates / 7 forced updates / 0 dangerous updates\n",
      "n_neigh_min: 0 / n_neigh_max: 40 / n_neigh_avg: 15.4114\n",
      "shortest rebuild period: 16\n",
      "-- Cell list stats:\n",
      "Dimension: 11, 11, 11\n",
      "n_min    : 1 / n_max: 19 / n_avg: 8.00751\n",
      "** run complete **\n",
      "On average it took: 3.108601951599121 seconds!\n"
     ]
    }
   ],
   "source": [
    "avgTime = Benchmarking.BenchmarkSimulation(simulationObject.RunSimulation, 600, 10)\n",
    "print(\"On average it took: {} seconds!\".format(avgTime))\n",
    "benchmarkDictionary[\"Run10Mins\"] = [avgTime]"
   ]
  },
  {
   "cell_type": "markdown",
   "metadata": {},
   "source": [
    "### Showing the benchmarks next to each other."
   ]
  },
  {
   "cell_type": "code",
   "execution_count": 7,
   "metadata": {},
   "outputs": [
    {
     "name": "stdout",
     "output_type": "stream",
     "text": [
      "   SnapshotNRestore  AlterNRestore  Run10Mins\n",
      "0          0.008587       0.063116   3.108602\n"
     ]
    }
   ],
   "source": [
    "BenchmarkRun = pandas.DataFrame.from_dict(benchmarkDictionary, orient=\"columns\")\n",
    "print(BenchmarkRun)"
   ]
  }
 ],
 "metadata": {
  "interpreter": {
   "hash": "c1070025684f38ef424833d62943fdce2e85c1bbcb397a79406fddf7242be22a"
  },
  "kernelspec": {
   "display_name": "hoomd_introduction_stable",
   "language": "python",
   "name": "hoomd_introduction_stable"
  },
  "language_info": {
   "codemirror_mode": {
    "name": "ipython",
    "version": 3
   },
   "file_extension": ".py",
   "mimetype": "text/x-python",
   "name": "python",
   "nbconvert_exporter": "python",
   "pygments_lexer": "ipython3",
   "version": "3.9.5"
  }
 },
 "nbformat": 4,
 "nbformat_minor": 2
}
