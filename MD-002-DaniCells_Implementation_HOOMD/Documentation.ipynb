{
    "cells": [
        {
            "cell_type": "markdown",
            "source": [
                "# Documentation for MD-002\n",
                "\n",
                "## Dimensions\n",
                "https://hoomd-blue.readthedocs.io/en/stable/units.html#\n",
                "\n",
                "* Distance - [um] - micrometer\n",
                "* Time - [s] - seconds"
            ],
            "metadata": {}
        },
        {
            "cell_type": "markdown",
            "source": [],
            "metadata": {}
        }
    ],
    "metadata": {
        "orig_nbformat": 4,
        "language_info": {
            "name": "python"
        }
    },
    "nbformat": 4,
    "nbformat_minor": 2
}