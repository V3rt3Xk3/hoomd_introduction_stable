{
    "cells": [
        {
            "cell_type": "markdown",
            "source": [
                "# Documentation for MD-003\n",
                "## Spawning a particle, by Lívia - notes\n",
                "\n",
                "snapshot.particle.resize(oldLength+1)\n",
                "\n",
                "hoomdSystemObject.restore_snapshot(snapshot)\n",
                "\n",
                "This way we seem to generate a new particle, where all the properties are default. It seems not neccesary default by hoomd, but rather the unerlying engine, like numpy. So the position and typeid seems to be set to '0' / [0,0,0]\n",
                "Even with this version I will have to set all the parameters by hand, but still saves:\n",
                "* Saving a snapshot to disk\n",
                "* Altering the snapshot\n",
                "* Reloading the snapshot\n",
                "* Re-intializing the system\n",
                "\n",
                "Now we only seem to do:\n",
                "* hoomdSystemObject.restore_snapshot(snapshot) - Reloading the snapshot\n",
                "* I think it is \"only\" reacreating the arrays in memory, I will run benchmarks."
            ],
            "metadata": {}
        },
        {
            "cell_type": "markdown",
            "source": [],
            "metadata": {}
        }
    ],
    "metadata": {
        "orig_nbformat": 4,
        "language_info": {
            "name": "python"
        }
    },
    "nbformat": 4,
    "nbformat_minor": 2
}